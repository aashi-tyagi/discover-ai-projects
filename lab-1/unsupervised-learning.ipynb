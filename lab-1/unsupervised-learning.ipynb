{
    "metadata": {
        "kernelspec": {
            "name": "python3",
            "display_name": "Python 3 (ipykernel)",
            "language": "python"
        }
    },
    "nbformat": 4,
    "nbformat_minor": 2,
    "cells": [
        {
            "attachments": {},
            "cell_type": "markdown",
            "metadata": {},
            "source": [
                "# **Unsupervised Learning with K-Means Clustering**"
            ]
        },
        {
            "attachments": {},
            "cell_type": "markdown",
            "metadata": {},
            "source": [
                "In this lab, you will get an introduction to unsupervised learning by solving a clustering problem using **K-Means Clustering**.\n",
                "\n",
                "\n",
                "\n",
                "\n",
                "\n",
                "Please open [this tutorial](https://youtu.be/EItlUEPCIzM) to follow the steps in this notebook.This is a 25 minutes tutorial, in which you will learn how to determine the number of clusters needed for a data set and how to use the K-Means method for clustering.\n",
                "\n",
                "\n",
                "\n",
                "**Saturn shortcuts**\n",
                "\n",
                "Press *Ctrl+return* to run each section separately. Please note that some sections depend on the previous sections, and run them in order. You can run the whole program at once, buy clicking the *Run All* button.\n",
                "\n",
                "---"
            ]
        },
        {
            "attachments": {},
            "cell_type": "markdown",
            "metadata": {},
            "source": [
                "# Theory: The K-Means algorithm"
            ]
        },
        {
            "attachments": {},
            "cell_type": "markdown",
            "metadata": {},
            "source": [
                "\n",
                "\n",
                "0. Set *K*, the value that determines the number of clusters to be created\n",
                "1. Start with *K* centroids by putting them at a random place\n",
                "2. Compute distance of every point from centroid and cluster the points accordingly\n",
                "3. Adjust centroids so that they become center of gravity for their cluster\n",
                "4. Re-cluster every point based on their distance to the centroid\n",
                "5. Readjust centroids to make them the center of gravity\n",
                "6. Recompute clusters and repeat this till data points stop changing clusters\n",
                ""
            ]
        },
        {
            "attachments": {},
            "cell_type": "markdown",
            "metadata": {},
            "source": [
                "***Check point***\n",
                "\n",
                "What's the name of the algorithm commony used to determine the value of K?"
            ]
        },
        {
            "attachments": {},
            "cell_type": "markdown",
            "metadata": {},
            "source": [
                "Elbow Method."
            ]
        },
        {
            "attachments": {},
            "cell_type": "markdown",
            "metadata": {},
            "source": [
                "\n",
                "\n",
                "---\n",
                "\n",
                "\n",
                "# Practice: Clustering a data set"
            ]
        },
        {
            "attachments": {},
            "cell_type": "markdown",
            "metadata": {},
            "source": [
                "The data set in the tutorial contains age and income information of a given population.\n",
                "\n",
                "The data file, *income.csv* is provided for you in this directory."
            ]
        },
        {
            "attachments": {},
            "cell_type": "markdown",
            "metadata": {},
            "source": [
                "# Import packages"
            ]
        },
        {
            "cell_type": "code",
            "execution_count": 3,
            "metadata": {},
            "outputs": [],
            "source": [
                "# Importing packages needed in this code, from sklearn, pandas, and matplotlib\n",
                "# ---------------------------------------------------------------------------- #\n",
                "from sklearn.cluster import KMeans\n",
                "import pandas as pd\n",
                "from sklearn.preprocessing import MinMaxScaler\n",
                "from matplotlib import pyplot as plt\n",
                "%matplotlib inline"
            ]
        },
        {
            "attachments": {},
            "cell_type": "markdown",
            "metadata": {},
            "source": [
                "# Explore the data set"
            ]
        },
        {
            "attachments": {},
            "cell_type": "markdown",
            "metadata": {},
            "source": [
                "1. Read in the data set"
            ]
        },
        {
            "cell_type": "code",
            "execution_count": 13,
            "metadata": {},
            "outputs": [
                {
                    "data": {
                        "text/html": "\u003cdiv\u003e\n\u003cstyle scoped\u003e\n    .dataframe tbody tr th:only-of-type {\n        vertical-align: middle;\n    }\n\n    .dataframe tbody tr th {\n        vertical-align: top;\n    }\n\n    .dataframe thead th {\n        text-align: right;\n    }\n\u003c/style\u003e\n\u003ctable border=\"1\" class=\"dataframe\"\u003e\n  \u003cthead\u003e\n    \u003ctr style=\"text-align: right;\"\u003e\n      \u003cth\u003e\u003c/th\u003e\n      \u003cth\u003eName\u003c/th\u003e\n      \u003cth\u003eAge\u003c/th\u003e\n      \u003cth\u003eIncome($)\u003c/th\u003e\n    \u003c/tr\u003e\n  \u003c/thead\u003e\n  \u003ctbody\u003e\n    \u003ctr\u003e\n      \u003cth\u003e0\u003c/th\u003e\n      \u003ctd\u003eRob\u003c/td\u003e\n      \u003ctd\u003e27\u003c/td\u003e\n      \u003ctd\u003e70000\u003c/td\u003e\n    \u003c/tr\u003e\n    \u003ctr\u003e\n      \u003cth\u003e1\u003c/th\u003e\n      \u003ctd\u003eMichael\u003c/td\u003e\n      \u003ctd\u003e29\u003c/td\u003e\n      \u003ctd\u003e90000\u003c/td\u003e\n    \u003c/tr\u003e\n    \u003ctr\u003e\n      \u003cth\u003e2\u003c/th\u003e\n      \u003ctd\u003eMohan\u003c/td\u003e\n      \u003ctd\u003e29\u003c/td\u003e\n      \u003ctd\u003e61000\u003c/td\u003e\n    \u003c/tr\u003e\n    \u003ctr\u003e\n      \u003cth\u003e3\u003c/th\u003e\n      \u003ctd\u003eIsmail\u003c/td\u003e\n      \u003ctd\u003e28\u003c/td\u003e\n      \u003ctd\u003e60000\u003c/td\u003e\n    \u003c/tr\u003e\n    \u003ctr\u003e\n      \u003cth\u003e4\u003c/th\u003e\n      \u003ctd\u003eKory\u003c/td\u003e\n      \u003ctd\u003e42\u003c/td\u003e\n      \u003ctd\u003e150000\u003c/td\u003e\n    \u003c/tr\u003e\n  \u003c/tbody\u003e\n\u003c/table\u003e\n\u003c/div\u003e",
                        "text/plain": "      Name  Age  Income($)\n0      Rob   27      70000\n1  Michael   29      90000\n2    Mohan   29      61000\n3   Ismail   28      60000\n4     Kory   42     150000"
                    },
                    "execution_count": 13,
                    "metadata": {},
                    "output_type": "execute_result"
                }
            ],
            "source": [
                "# Using pandas to read in the input file, income.csv saved under UnsupervisedLearning.\n",
                "# The data file is saved in the variable 'df'\n",
                "df = pd.read_csv('UnsupervisedLearning/income.csv')\n",
                "\n",
                "#TODO: Write code to inspect the first five rows of the data set by using the head function \n",
                "df.head()"
            ]
        },
        {
            "attachments": {},
            "cell_type": "markdown",
            "metadata": {},
            "source": [
                "2. Plot data on a scatter plot"
            ]
        },
        {
            "cell_type": "code",
            "execution_count": 6,
            "metadata": {},
            "outputs": [
                {
                    "data": {
                        "text/plain": "\u003cmatplotlib.collections.PathCollection at 0x7f7cfc7b7940\u003e"
                    },
                    "execution_count": 6,
                    "metadata": {},
                    "output_type": "execute_result"
                },
                {
                    "data": {
                        "image/png": "[encoded data removed]",
                        "text/plain": "\u003cFigure size 432x288 with 1 Axes\u003e"
                    },
                    "metadata": {
                        "needs_background": "light"
                    },
                    "output_type": "display_data"
                }
            ],
            "source": [
                "# Generate a scatter plot of age and income\n",
                "plt.scatter(df['Age'],df['Income($)'])"
            ]
        },
        {
            "attachments": {},
            "cell_type": "markdown",
            "metadata": {},
            "source": [
                "# Fit and predict three clusters for the data"
            ]
        },
        {
            "cell_type": "code",
            "execution_count": 31,
            "metadata": {},
            "outputs": [
                {
                    "data": {
                        "text/plain": "KMeans(n_clusters=3)"
                    },
                    "execution_count": 31,
                    "metadata": {},
                    "output_type": "execute_result"
                }
            ],
            "source": [
                "# Define a KMeans object with 3 as the value of k. Call the object km\n",
                "km = KMeans(n_clusters=3)\n",
                "\n",
                "#TODO: Write code to inspect km to see all the default parameters that we didn't have to specify\n",
                "km"
            ]
        },
        {
            "cell_type": "code",
            "execution_count": 32,
            "metadata": {},
            "outputs": [
                {
                    "data": {
                        "text/plain": "array([1, 1, 1, 1, 0, 0, 0, 0, 0, 0, 0, 1, 1, 1, 1, 1, 2, 2, 2, 2, 2, 2],\n      dtype=int32)"
                    },
                    "execution_count": 32,
                    "metadata": {},
                    "output_type": "execute_result"
                }
            ],
            "source": [
                "# Predict the data set excluding the name column. \n",
                "# Save the prediction in an array and call it y_predicted\n",
                "y_predicted = km.fit_predict(df[['Age','Income($)']])\n",
                "\n",
                "# Visualize the array. \n",
                "# Notice that every element is assigned one of the three cluster IDs: 0, 1, or 2\n",
                "y_predicted"
            ]
        },
        {
            "attachments": {},
            "cell_type": "markdown",
            "metadata": {},
            "source": [
                "Printing out the y_predicted array is not the best way to visualize the clustering. A better option would be to plot the clusters."
            ]
        },
        {
            "cell_type": "code",
            "execution_count": 33,
            "metadata": {},
            "outputs": [
                {
                    "data": {
                        "text/html": "\u003cdiv\u003e\n\u003cstyle scoped\u003e\n    .dataframe tbody tr th:only-of-type {\n        vertical-align: middle;\n    }\n\n    .dataframe tbody tr th {\n        vertical-align: top;\n    }\n\n    .dataframe thead th {\n        text-align: right;\n    }\n\u003c/style\u003e\n\u003ctable border=\"1\" class=\"dataframe\"\u003e\n  \u003cthead\u003e\n    \u003ctr style=\"text-align: right;\"\u003e\n      \u003cth\u003e\u003c/th\u003e\n      \u003cth\u003eName\u003c/th\u003e\n      \u003cth\u003eAge\u003c/th\u003e\n      \u003cth\u003eIncome($)\u003c/th\u003e\n      \u003cth\u003eCluster\u003c/th\u003e\n    \u003c/tr\u003e\n  \u003c/thead\u003e\n  \u003ctbody\u003e\n    \u003ctr\u003e\n      \u003cth\u003e0\u003c/th\u003e\n      \u003ctd\u003eRob\u003c/td\u003e\n      \u003ctd\u003e0.058824\u003c/td\u003e\n      \u003ctd\u003e0.213675\u003c/td\u003e\n      \u003ctd\u003e1\u003c/td\u003e\n    \u003c/tr\u003e\n    \u003ctr\u003e\n      \u003cth\u003e1\u003c/th\u003e\n      \u003ctd\u003eMichael\u003c/td\u003e\n      \u003ctd\u003e0.176471\u003c/td\u003e\n      \u003ctd\u003e0.384615\u003c/td\u003e\n      \u003ctd\u003e1\u003c/td\u003e\n    \u003c/tr\u003e\n    \u003ctr\u003e\n      \u003cth\u003e2\u003c/th\u003e\n      \u003ctd\u003eMohan\u003c/td\u003e\n      \u003ctd\u003e0.176471\u003c/td\u003e\n      \u003ctd\u003e0.136752\u003c/td\u003e\n      \u003ctd\u003e1\u003c/td\u003e\n    \u003c/tr\u003e\n    \u003ctr\u003e\n      \u003cth\u003e3\u003c/th\u003e\n      \u003ctd\u003eIsmail\u003c/td\u003e\n      \u003ctd\u003e0.117647\u003c/td\u003e\n      \u003ctd\u003e0.128205\u003c/td\u003e\n      \u003ctd\u003e1\u003c/td\u003e\n    \u003c/tr\u003e\n    \u003ctr\u003e\n      \u003cth\u003e4\u003c/th\u003e\n      \u003ctd\u003eKory\u003c/td\u003e\n      \u003ctd\u003e0.941176\u003c/td\u003e\n      \u003ctd\u003e0.897436\u003c/td\u003e\n      \u003ctd\u003e0\u003c/td\u003e\n    \u003c/tr\u003e\n  \u003c/tbody\u003e\n\u003c/table\u003e\n\u003c/div\u003e",
                        "text/plain": "      Name       Age  Income($)  Cluster\n0      Rob  0.058824   0.213675        1\n1  Michael  0.176471   0.384615        1\n2    Mohan  0.176471   0.136752        1\n3   Ismail  0.117647   0.128205        1\n4     Kory  0.941176   0.897436        0"
                    },
                    "execution_count": 33,
                    "metadata": {},
                    "output_type": "execute_result"
                }
            ],
            "source": [
                "# Add a column to the data frame to store the predicted cluster ID of each element\n",
                "df['Cluster'] = y_predicted\n",
                "\n",
                "#TODO: Write code to inspect the first five rows of the data set by using the head() function\n",
                "df.head()"
            ]
        },
        {
            "attachments": {},
            "cell_type": "markdown",
            "metadata": {},
            "source": [
                "Plot the clusters"
            ]
        },
        {
            "cell_type": "code",
            "execution_count": 35,
            "metadata": {},
            "outputs": [
                {
                    "name": "stderr",
                    "output_type": "stream",
                    "text": "No artists with labels found to put in legend.  Note that artists whose label start with an underscore are ignored when legend() is called with no argument.\n"
                },
                {
                    "data": {
                        "text/plain": "\u003cmatplotlib.legend.Legend at 0x7f7cefb37550\u003e"
                    },
                    "execution_count": 35,
                    "metadata": {},
                    "output_type": "execute_result"
                },
                {
                    "data": {
                        "image/png": "[encoded data removed]",
                        "text/plain": "\u003cFigure size 432x288 with 1 Axes\u003e"
                    },
                    "metadata": {
                        "needs_background": "light"
                    },
                    "output_type": "display_data"
                }
            ],
            "source": [
                "# Define the three data frames, df1, df2, df3, each belonging to one of the three clusters\n",
                "df1 = df[df.Cluster==0]\n",
                "df2 = df[df.Cluster==1]\n",
                "df3 = df[df.Cluster==2]\n",
                "\n",
                "# Plot the data frames with different colors to differentiate them\n",
                "plt.scatter(df1.Age,df1['Income($)'],color='green')\n",
                "plt.scatter(df2.Age,df2['Income($)'],color='red')\n",
                "plt.scatter(df3.Age,df3['Income($)'],color='black')\n",
                "\n",
                "# Define the labels on the x and y axes\n",
                "plt.xlabel('Age')\n",
                "plt.ylabel('Income ($)')\n",
                "\n",
                "# Plot the legend\n",
                "plt.legend()"
            ]
        },
        {
            "attachments": {},
            "cell_type": "markdown",
            "metadata": {},
            "source": [
                "Due to scaling, cluster 1 and 2 were not clusteried correctly. To correct this, we get to use the *MinMaxScaler* algorithm to normalize the data."
            ]
        },
        {
            "cell_type": "code",
            "execution_count": 36,
            "metadata": {},
            "outputs": [
                {
                    "data": {
                        "text/html": "\u003cdiv\u003e\n\u003cstyle scoped\u003e\n    .dataframe tbody tr th:only-of-type {\n        vertical-align: middle;\n    }\n\n    .dataframe tbody tr th {\n        vertical-align: top;\n    }\n\n    .dataframe thead th {\n        text-align: right;\n    }\n\u003c/style\u003e\n\u003ctable border=\"1\" class=\"dataframe\"\u003e\n  \u003cthead\u003e\n    \u003ctr style=\"text-align: right;\"\u003e\n      \u003cth\u003e\u003c/th\u003e\n      \u003cth\u003eName\u003c/th\u003e\n      \u003cth\u003eAge\u003c/th\u003e\n      \u003cth\u003eIncome($)\u003c/th\u003e\n      \u003cth\u003eCluster\u003c/th\u003e\n    \u003c/tr\u003e\n  \u003c/thead\u003e\n  \u003ctbody\u003e\n    \u003ctr\u003e\n      \u003cth\u003e0\u003c/th\u003e\n      \u003ctd\u003eRob\u003c/td\u003e\n      \u003ctd\u003e0.058824\u003c/td\u003e\n      \u003ctd\u003e0.213675\u003c/td\u003e\n      \u003ctd\u003e1\u003c/td\u003e\n    \u003c/tr\u003e\n    \u003ctr\u003e\n      \u003cth\u003e1\u003c/th\u003e\n      \u003ctd\u003eMichael\u003c/td\u003e\n      \u003ctd\u003e0.176471\u003c/td\u003e\n      \u003ctd\u003e0.384615\u003c/td\u003e\n      \u003ctd\u003e1\u003c/td\u003e\n    \u003c/tr\u003e\n    \u003ctr\u003e\n      \u003cth\u003e2\u003c/th\u003e\n      \u003ctd\u003eMohan\u003c/td\u003e\n      \u003ctd\u003e0.176471\u003c/td\u003e\n      \u003ctd\u003e0.136752\u003c/td\u003e\n      \u003ctd\u003e1\u003c/td\u003e\n    \u003c/tr\u003e\n    \u003ctr\u003e\n      \u003cth\u003e3\u003c/th\u003e\n      \u003ctd\u003eIsmail\u003c/td\u003e\n      \u003ctd\u003e0.117647\u003c/td\u003e\n      \u003ctd\u003e0.128205\u003c/td\u003e\n      \u003ctd\u003e1\u003c/td\u003e\n    \u003c/tr\u003e\n    \u003ctr\u003e\n      \u003cth\u003e4\u003c/th\u003e\n      \u003ctd\u003eKory\u003c/td\u003e\n      \u003ctd\u003e0.941176\u003c/td\u003e\n      \u003ctd\u003e0.897436\u003c/td\u003e\n      \u003ctd\u003e0\u003c/td\u003e\n    \u003c/tr\u003e\n    \u003ctr\u003e\n      \u003cth\u003e5\u003c/th\u003e\n      \u003ctd\u003eGautam\u003c/td\u003e\n      \u003ctd\u003e0.764706\u003c/td\u003e\n      \u003ctd\u003e0.940171\u003c/td\u003e\n      \u003ctd\u003e0\u003c/td\u003e\n    \u003c/tr\u003e\n    \u003ctr\u003e\n      \u003cth\u003e6\u003c/th\u003e\n      \u003ctd\u003eDavid\u003c/td\u003e\n      \u003ctd\u003e0.882353\u003c/td\u003e\n      \u003ctd\u003e0.982906\u003c/td\u003e\n      \u003ctd\u003e0\u003c/td\u003e\n    \u003c/tr\u003e\n    \u003ctr\u003e\n      \u003cth\u003e7\u003c/th\u003e\n      \u003ctd\u003eAndrea\u003c/td\u003e\n      \u003ctd\u003e0.705882\u003c/td\u003e\n      \u003ctd\u003e1.000000\u003c/td\u003e\n      \u003ctd\u003e0\u003c/td\u003e\n    \u003c/tr\u003e\n    \u003ctr\u003e\n      \u003cth\u003e8\u003c/th\u003e\n      \u003ctd\u003eBrad\u003c/td\u003e\n      \u003ctd\u003e0.588235\u003c/td\u003e\n      \u003ctd\u003e0.948718\u003c/td\u003e\n      \u003ctd\u003e0\u003c/td\u003e\n    \u003c/tr\u003e\n    \u003ctr\u003e\n      \u003cth\u003e9\u003c/th\u003e\n      \u003ctd\u003eAngelina\u003c/td\u003e\n      \u003ctd\u003e0.529412\u003c/td\u003e\n      \u003ctd\u003e0.726496\u003c/td\u003e\n      \u003ctd\u003e0\u003c/td\u003e\n    \u003c/tr\u003e\n    \u003ctr\u003e\n      \u003cth\u003e10\u003c/th\u003e\n      \u003ctd\u003eDonald\u003c/td\u003e\n      \u003ctd\u003e0.647059\u003c/td\u003e\n      \u003ctd\u003e0.786325\u003c/td\u003e\n      \u003ctd\u003e0\u003c/td\u003e\n    \u003c/tr\u003e\n    \u003ctr\u003e\n      \u003cth\u003e11\u003c/th\u003e\n      \u003ctd\u003eTom\u003c/td\u003e\n      \u003ctd\u003e0.000000\u003c/td\u003e\n      \u003ctd\u003e0.000000\u003c/td\u003e\n      \u003ctd\u003e1\u003c/td\u003e\n    \u003c/tr\u003e\n    \u003ctr\u003e\n      \u003cth\u003e12\u003c/th\u003e\n      \u003ctd\u003eArnold\u003c/td\u003e\n      \u003ctd\u003e0.058824\u003c/td\u003e\n      \u003ctd\u003e0.025641\u003c/td\u003e\n      \u003ctd\u003e1\u003c/td\u003e\n    \u003c/tr\u003e\n    \u003ctr\u003e\n      \u003cth\u003e13\u003c/th\u003e\n      \u003ctd\u003eJared\u003c/td\u003e\n      \u003ctd\u003e0.117647\u003c/td\u003e\n      \u003ctd\u003e0.051282\u003c/td\u003e\n      \u003ctd\u003e1\u003c/td\u003e\n    \u003c/tr\u003e\n    \u003ctr\u003e\n      \u003cth\u003e14\u003c/th\u003e\n      \u003ctd\u003eStark\u003c/td\u003e\n      \u003ctd\u003e0.176471\u003c/td\u003e\n      \u003ctd\u003e0.038462\u003c/td\u003e\n      \u003ctd\u003e1\u003c/td\u003e\n    \u003c/tr\u003e\n    \u003ctr\u003e\n      \u003cth\u003e15\u003c/th\u003e\n      \u003ctd\u003eRanbir\u003c/td\u003e\n      \u003ctd\u003e0.352941\u003c/td\u003e\n      \u003ctd\u003e0.068376\u003c/td\u003e\n      \u003ctd\u003e1\u003c/td\u003e\n    \u003c/tr\u003e\n    \u003ctr\u003e\n      \u003cth\u003e16\u003c/th\u003e\n      \u003ctd\u003eDipika\u003c/td\u003e\n      \u003ctd\u003e0.823529\u003c/td\u003e\n      \u003ctd\u003e0.170940\u003c/td\u003e\n      \u003ctd\u003e2\u003c/td\u003e\n    \u003c/tr\u003e\n    \u003ctr\u003e\n      \u003cth\u003e17\u003c/th\u003e\n      \u003ctd\u003ePriyanka\u003c/td\u003e\n      \u003ctd\u003e0.882353\u003c/td\u003e\n      \u003ctd\u003e0.153846\u003c/td\u003e\n      \u003ctd\u003e2\u003c/td\u003e\n    \u003c/tr\u003e\n    \u003ctr\u003e\n      \u003cth\u003e18\u003c/th\u003e\n      \u003ctd\u003eNick\u003c/td\u003e\n      \u003ctd\u003e1.000000\u003c/td\u003e\n      \u003ctd\u003e0.162393\u003c/td\u003e\n      \u003ctd\u003e2\u003c/td\u003e\n    \u003c/tr\u003e\n    \u003ctr\u003e\n      \u003cth\u003e19\u003c/th\u003e\n      \u003ctd\u003eAlia\u003c/td\u003e\n      \u003ctd\u003e0.764706\u003c/td\u003e\n      \u003ctd\u003e0.299145\u003c/td\u003e\n      \u003ctd\u003e2\u003c/td\u003e\n    \u003c/tr\u003e\n    \u003ctr\u003e\n      \u003cth\u003e20\u003c/th\u003e\n      \u003ctd\u003eSid\u003c/td\u003e\n      \u003ctd\u003e0.882353\u003c/td\u003e\n      \u003ctd\u003e0.316239\u003c/td\u003e\n      \u003ctd\u003e2\u003c/td\u003e\n    \u003c/tr\u003e\n    \u003ctr\u003e\n      \u003cth\u003e21\u003c/th\u003e\n      \u003ctd\u003eAbdul\u003c/td\u003e\n      \u003ctd\u003e0.764706\u003c/td\u003e\n      \u003ctd\u003e0.111111\u003c/td\u003e\n      \u003ctd\u003e2\u003c/td\u003e\n    \u003c/tr\u003e\n  \u003c/tbody\u003e\n\u003c/table\u003e\n\u003c/div\u003e",
                        "text/plain": "        Name       Age  Income($)  Cluster\n0        Rob  0.058824   0.213675        1\n1    Michael  0.176471   0.384615        1\n2      Mohan  0.176471   0.136752        1\n3     Ismail  0.117647   0.128205        1\n4       Kory  0.941176   0.897436        0\n5     Gautam  0.764706   0.940171        0\n6      David  0.882353   0.982906        0\n7     Andrea  0.705882   1.000000        0\n8       Brad  0.588235   0.948718        0\n9   Angelina  0.529412   0.726496        0\n10    Donald  0.647059   0.786325        0\n11       Tom  0.000000   0.000000        1\n12    Arnold  0.058824   0.025641        1\n13     Jared  0.117647   0.051282        1\n14     Stark  0.176471   0.038462        1\n15    Ranbir  0.352941   0.068376        1\n16    Dipika  0.823529   0.170940        2\n17  Priyanka  0.882353   0.153846        2\n18      Nick  1.000000   0.162393        2\n19      Alia  0.764706   0.299145        2\n20       Sid  0.882353   0.316239        2\n21     Abdul  0.764706   0.111111        2"
                    },
                    "execution_count": 36,
                    "metadata": {},
                    "output_type": "execute_result"
                }
            ],
            "source": [
                "# Define the MinMaxScaler object and save in a variable called scaler\n",
                "scaler = MinMaxScaler()\n",
                "\n",
                "# Scale the income feature\n",
                "scaler.fit(df[['Income($)']])\n",
                "df['Income($)'] = scaler.transform(df[['Income($)']])\n",
                "\n",
                "# Scale the age feature\n",
                "scaler.fit(df[['Age']])\n",
                "df['Age'] = scaler.transform(df[['Age']])\n",
                "\n",
                "#TODO: Write code to inspect the scaled values of age and income.\n",
                "# Notice that all the values are between 0 and 1\n",
                "df"
            ]
        },
        {
            "attachments": {},
            "cell_type": "markdown",
            "metadata": {},
            "source": [
                "With the scaled values in df, we can repeat the steps to fit and predict the data set."
            ]
        },
        {
            "cell_type": "code",
            "execution_count": 37,
            "metadata": {},
            "outputs": [
                {
                    "data": {
                        "text/plain": "array([0, 0, 0, 0, 1, 1, 1, 1, 1, 1, 1, 0, 0, 0, 0, 0, 2, 2, 2, 2, 2, 2],\n      dtype=int32)"
                    },
                    "execution_count": 37,
                    "metadata": {},
                    "output_type": "execute_result"
                }
            ],
            "source": [
                "# Define a KMeans object with 3 as the value of k. Call the object km\n",
                "km = KMeans(n_clusters=3)\n",
                "\n",
                "# Predict the data set excluding the name column. \n",
                "# Save the prediction in an array and call it y_predicted\n",
                "y_predicted = km.fit_predict(df[['Age','Income($)']])\n",
                "\n",
                "# Visualize the array.\n",
                "y_predicted"
            ]
        },
        {
            "cell_type": "code",
            "execution_count": 41,
            "metadata": {},
            "outputs": [
                {
                    "data": {
                        "text/html": "\u003cdiv\u003e\n\u003cstyle scoped\u003e\n    .dataframe tbody tr th:only-of-type {\n        vertical-align: middle;\n    }\n\n    .dataframe tbody tr th {\n        vertical-align: top;\n    }\n\n    .dataframe thead th {\n        text-align: right;\n    }\n\u003c/style\u003e\n\u003ctable border=\"1\" class=\"dataframe\"\u003e\n  \u003cthead\u003e\n    \u003ctr style=\"text-align: right;\"\u003e\n      \u003cth\u003e\u003c/th\u003e\n      \u003cth\u003eName\u003c/th\u003e\n      \u003cth\u003eAge\u003c/th\u003e\n      \u003cth\u003eIncome($)\u003c/th\u003e\n      \u003cth\u003eCluster\u003c/th\u003e\n    \u003c/tr\u003e\n  \u003c/thead\u003e\n  \u003ctbody\u003e\n    \u003ctr\u003e\n      \u003cth\u003e0\u003c/th\u003e\n      \u003ctd\u003eRob\u003c/td\u003e\n      \u003ctd\u003e0.058824\u003c/td\u003e\n      \u003ctd\u003e0.213675\u003c/td\u003e\n      \u003ctd\u003e0\u003c/td\u003e\n    \u003c/tr\u003e\n    \u003ctr\u003e\n      \u003cth\u003e1\u003c/th\u003e\n      \u003ctd\u003eMichael\u003c/td\u003e\n      \u003ctd\u003e0.176471\u003c/td\u003e\n      \u003ctd\u003e0.384615\u003c/td\u003e\n      \u003ctd\u003e0\u003c/td\u003e\n    \u003c/tr\u003e\n    \u003ctr\u003e\n      \u003cth\u003e2\u003c/th\u003e\n      \u003ctd\u003eMohan\u003c/td\u003e\n      \u003ctd\u003e0.176471\u003c/td\u003e\n      \u003ctd\u003e0.136752\u003c/td\u003e\n      \u003ctd\u003e0\u003c/td\u003e\n    \u003c/tr\u003e\n    \u003ctr\u003e\n      \u003cth\u003e3\u003c/th\u003e\n      \u003ctd\u003eIsmail\u003c/td\u003e\n      \u003ctd\u003e0.117647\u003c/td\u003e\n      \u003ctd\u003e0.128205\u003c/td\u003e\n      \u003ctd\u003e0\u003c/td\u003e\n    \u003c/tr\u003e\n    \u003ctr\u003e\n      \u003cth\u003e4\u003c/th\u003e\n      \u003ctd\u003eKory\u003c/td\u003e\n      \u003ctd\u003e0.941176\u003c/td\u003e\n      \u003ctd\u003e0.897436\u003c/td\u003e\n      \u003ctd\u003e1\u003c/td\u003e\n    \u003c/tr\u003e\n  \u003c/tbody\u003e\n\u003c/table\u003e\n\u003c/div\u003e",
                        "text/plain": "      Name       Age  Income($)  Cluster\n0      Rob  0.058824   0.213675        0\n1  Michael  0.176471   0.384615        0\n2    Mohan  0.176471   0.136752        0\n3   Ismail  0.117647   0.128205        0\n4     Kory  0.941176   0.897436        1"
                    },
                    "execution_count": 41,
                    "metadata": {},
                    "output_type": "execute_result"
                }
            ],
            "source": [
                "# Add a column to the data frame to store the predicted cluster ID of each element\n",
                "df['Cluster'] = y_predicted\n",
                "#df.drop('cluster',axis='columns',inplace=True)\n",
                "\n",
                "#TODO: Write code to inspect the first five rows of the data set by using the head() function\n",
                "df.head()"
            ]
        },
        {
            "cell_type": "code",
            "execution_count": 42,
            "metadata": {},
            "outputs": [
                {
                    "name": "stderr",
                    "output_type": "stream",
                    "text": "No artists with labels found to put in legend.  Note that artists whose label start with an underscore are ignored when legend() is called with no argument.\n"
                },
                {
                    "data": {
                        "text/plain": "\u003cmatplotlib.legend.Legend at 0x7f7cefb5b130\u003e"
                    },
                    "execution_count": 42,
                    "metadata": {},
                    "output_type": "execute_result"
                },
                {
                    "data": {
                        "image/png": "[encoded data removed]",
                        "text/plain": "\u003cFigure size 432x288 with 1 Axes\u003e"
                    },
                    "metadata": {
                        "needs_background": "light"
                    },
                    "output_type": "display_data"
                }
            ],
            "source": [
                "# Define the three data frames, df1, df2, df3, each belonging to one of the three clusters\n",
                "df1 = df[df.Cluster==0]\n",
                "df2 = df[df.Cluster==1]\n",
                "df3 = df[df.Cluster==2]\n",
                "\n",
                "# Plot the data frames with different colors to differentiate them\n",
                "plt.scatter(df1.Age,df1['Income($)'],color='green')\n",
                "plt.scatter(df2.Age,df2['Income($)'],color='red')\n",
                "plt.scatter(df3.Age,df3['Income($)'],color='black')\n",
                "\n",
                "# Define the labels on the x and y axes\n",
                "plt.xlabel('Age')\n",
                "plt.ylabel('Income ($)')\n",
                "\n",
                "# Plot the legend\n",
                "plt.legend()"
            ]
        },
        {
            "attachments": {},
            "cell_type": "markdown",
            "metadata": {},
            "source": [
                "Add the cluster centroids to to the plot"
            ]
        },
        {
            "cell_type": "code",
            "execution_count": 0,
            "metadata": {},
            "outputs": [],
            "source": [
                "# Inspect the cluster centroids which are saved inside cluster_centers_ \n",
                "km.cluster_centers_"
            ]
        },
        {
            "cell_type": "code",
            "execution_count": 43,
            "metadata": {},
            "outputs": [
                {
                    "data": {
                        "text/plain": "\u003cmatplotlib.legend.Legend at 0x7f7cefaa9c30\u003e"
                    },
                    "execution_count": 43,
                    "metadata": {},
                    "output_type": "execute_result"
                },
                {
                    "data": {
                        "image/png": "[encoded data removed]",
                        "text/plain": "\u003cFigure size 432x288 with 1 Axes\u003e"
                    },
                    "metadata": {
                        "needs_background": "light"
                    },
                    "output_type": "display_data"
                }
            ],
            "source": [
                "# Define the three data frames, df1, df2, df3, each belonging to one of the three clusters\n",
                "df1 = df[df.Cluster==0]\n",
                "df2 = df[df.Cluster==1]\n",
                "df3 = df[df.Cluster==2]\n",
                "\n",
                "# Plot the data frames with different colors to differentiate them\n",
                "plt.scatter(df1.Age,df1['Income($)'],color='green')\n",
                "plt.scatter(df2.Age,df2['Income($)'],color='red')\n",
                "plt.scatter(df3.Age,df3['Income($)'],color='black')\n",
                "\n",
                "# Add the centroids to the plot\n",
                "plt.scatter(km.cluster_centers_[:,0],km.cluster_centers_[:,1],color='purple',marker='*',label='centroid')\n",
                "# Plot the legend\n",
                "plt.legend()"
            ]
        },
        {
            "attachments": {},
            "cell_type": "markdown",
            "metadata": {},
            "source": [
                "# The elbow method"
            ]
        },
        {
            "cell_type": "code",
            "execution_count": 46,
            "metadata": {},
            "outputs": [
                {
                    "data": {
                        "text/plain": "[\u003cmatplotlib.lines.Line2D at 0x7f7cef7eb700\u003e]"
                    },
                    "execution_count": 46,
                    "metadata": {},
                    "output_type": "execute_result"
                },
                {
                    "data": {
                        "image/png": "[encoded data removed]",
                        "text/plain": "\u003cFigure size 432x288 with 1 Axes\u003e"
                    },
                    "metadata": {
                        "needs_background": "light"
                    },
                    "output_type": "display_data"
                }
            ],
            "source": [
                "# Define a range for possible k values. In this example, we choose 1 to 10\n",
                "k_rng = range(1,10)\n",
                "\n",
                "# Declare an array to store the values from the sum of squared error values.\n",
                "sse = []\n",
                "\n",
                "# Using a for loop, go through each value in the k range and compute the sse value\n",
                "for k in k_rng:\n",
                "    km = KMeans(n_clusters=k)\n",
                "    km.fit(df[['Age','Income($)']])\n",
                "    sse.append(km.inertia_)\n",
                "\n",
                "# Plot the sse value for each k.\n",
                "# Notice that 3 is the elbow value.\n",
                "plt.xlabel('K')\n",
                "plt.ylabel('Sum of squared error')\n",
                "plt.plot(k_rng,sse)"
            ]
        },
        {
            "attachments": {},
            "cell_type": "markdown",
            "metadata": {},
            "source": [
                "# Earn Your Wings: The iris flower\n",
                "\n",
                "![alt text](https://raw.githubusercontent.com/codebasics/py/master/ML/13_kmeans/iris.png)\n",
                "\n",
                "\n",
                "Use iris flower dataset from sklearn library and try to form clusters of flowers using petal width and length features. Drop other two features for simplicity.\n",
                "\n",
                "Figure out if any preprocessing such as scaling would help here.\n",
                "\n",
                "Draw elbow plot and from that figure out optimal value of k"
            ]
        }
    ]
}
