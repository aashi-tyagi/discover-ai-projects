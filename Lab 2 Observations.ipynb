{
    "metadata": {
        "kernelspec": {
            "name": "python3",
            "display_name": "Python 3 (ipykernel)",
            "language": "python"
        }
    },
    "nbformat": 4,
    "nbformat_minor": 2,
    "cells": [
        {
            "attachments": {},
            "cell_type": "markdown",
            "metadata": {},
            "source": [
                "**Describe the problem that you chose to solve. How is it related to the topic that your team will investigate for the Discover AI project?**"
            ]
        },
        {
            "attachments": {},
            "cell_type": "markdown",
            "metadata": {},
            "source": [
                "I created a model that identified the appropriate drug for a patient with a specific illness based on age, sex, blood pressure and cholesterol. I implemented the decision tree supervised machine learning algorithm, trained the model on example input-output pairs and used it to prescribe a drug to a new patient. My work is related to the project in that we are planning to build a supervised machine learning model to illustrate the possible biases and discrimination in facial recognition software."
            ]
        },
        {
            "attachments": {},
            "cell_type": "markdown",
            "metadata": {},
            "source": [
                "**Did you have to clean your dataset? If yes, desribe what you did.**"
            ]
        },
        {
            "attachments": {},
            "cell_type": "markdown",
            "metadata": {},
            "source": [
                "Yes, I had to clean the dataset. I dropped rows that had missing values using the dropna() function."
            ]
        },
        {
            "attachments": {},
            "cell_type": "markdown",
            "metadata": {},
            "source": [
                "**Did the program run successfully? If yes, summarise the results, otherwise, describe what went wrong and your attempt(s) to fix it.**"
            ]
        },
        {
            "attachments": {},
            "cell_type": "markdown",
            "metadata": {},
            "source": [
                "The program ran successfully. I implemented the decision tree algorithm on the cleaned data to predict which drug is most suitable for a patient based on features such as age, sex, blood pressure and cholesterol. I used metrics to determine the accuracy of the model."
            ]
        },
        {
            "attachments": {},
            "cell_type": "markdown",
            "metadata": {},
            "source": [
                "**Submit the link to your group's github**"
            ]
        },
        {
            "attachments": {},
            "cell_type": "markdown",
            "metadata": {},
            "source": [
                "https://github.com/aashi-tyagi/discover-ai-projects"
            ]
        }
    ]
}
