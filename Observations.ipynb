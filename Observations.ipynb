{
    "metadata": {
        "kernelspec": {
            "name": "python3",
            "display_name": "Python 3 (ipykernel)",
            "language": "python"
        }
    },
    "nbformat": 4,
    "nbformat_minor": 2,
    "cells": [
        {
            "attachments": {},
            "cell_type": "markdown",
            "metadata": {},
            "source": [
                "***Describe the differences in the input that was need by each learning model in the three types of machine learning.***"
            ]
        },
        {
            "attachments": {},
            "cell_type": "markdown",
            "metadata": {},
            "source": [
                "The supervised machine learning model required well-labelled datasets. The input data on age and gender was used to predict the output data, namely the music genre. The data was divided into two sets, namely training data which included correct input-output example pairs to train the model on and testing data to test the accuracy of the model.\n",
                "\n",
                "The unsupervised machine learning model used unlabelled datasets on age and income. We plotted the input datapoints on a scatter plot to visualize and identify clusters in the data. The visualization helped us determine the coefficient for K in K-means.\n",
                "\n",
                "For reinforcement learning, the input should be an initial state from which the model will start. The output depends on the state of the current input and the subsequent input depends on the output of the previous input."
            ]
        },
        {
            "attachments": {},
            "cell_type": "markdown",
            "metadata": {},
            "source": [
                "***Did the programs run successfully? If so, summarize the results. If not, describe what went wrong.***"
            ]
        },
        {
            "attachments": {},
            "cell_type": "markdown",
            "metadata": {},
            "source": [
                "The program ran successfully. I created a supervised machine learning model that predicts an individual's music genre preference based on age and gender. By visualizing the decision tree in VS Code, I was able to understand the rules and decisions made by the supervised machine learning model to predict output based on features of input data."
            ]
        },
        {
            "attachments": {},
            "cell_type": "markdown",
            "metadata": {},
            "source": [
                "***On a scale of 1 to 5, how hard was this lab?***"
            ]
        },
        {
            "attachments": {},
            "cell_type": "markdown",
            "metadata": {},
            "source": [
                "2 "
            ]
        },
        {
            "attachments": {},
            "cell_type": "markdown",
            "metadata": {},
            "source": [
                "***Please elaborate on your answer above.***"
            ]
        },
        {
            "attachments": {},
            "cell_type": "markdown",
            "metadata": {},
            "source": [
                "The tutorials were easy to follow and thoroughly explained concepts and techniques. Implementing the algorithms was relatively easy."
            ]
        }
    ]
}
